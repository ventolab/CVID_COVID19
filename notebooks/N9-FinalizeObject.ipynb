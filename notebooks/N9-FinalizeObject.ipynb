{
 "cells": [
  {
   "cell_type": "code",
   "execution_count": 1,
   "id": "exceptional-discount",
   "metadata": {},
   "outputs": [
    {
     "name": "stdout",
     "output_type": "stream",
     "text": [
      "scanpy==1.9.1 anndata==0.7.8 umap==0.4.6 numpy==1.19.5 scipy==1.6.1 pandas==1.1.4 scikit-learn==0.22 statsmodels==0.12.2 python-igraph==0.8.3 louvain==0.7.0 leidenalg==0.8.3 pynndescent==0.5.2\n"
     ]
    }
   ],
   "source": [
    "# Integration of biopsies and organ donors from 2 studies\n",
    "import anndata, numpy as np, pandas as pd, imp, scanpy as sc, rpy2\n",
    "import matplotlib.pyplot as plt\n",
    "imp.reload(lpy)\n",
    "%load_ext rpy2.ipython\n",
    "%matplotlib inline\n",
    "sc.logging.print_header()\n",
    "pd.options.display.max_columns = None\n",
    "pd.set_option(\"display.max_rows\", 1000)\n",
    "pd.set_option(\"display.max_columns\", 1000)\n",
    "import lpy # ! Local file !"
   ]
  },
  {
   "cell_type": "code",
   "execution_count": 2,
   "id": "homeless-surfing",
   "metadata": {},
   "outputs": [],
   "source": [
    "adata = anndata.read_h5ad(\"int5.h5ad\")"
   ]
  },
  {
   "cell_type": "code",
   "execution_count": 3,
   "id": "nasty-small",
   "metadata": {},
   "outputs": [],
   "source": [
    "# remove filtered cells\n",
    "adata = adata[adata.obs[\"general_integrated2\"] != \"filtered\"]"
   ]
  },
  {
   "cell_type": "code",
   "execution_count": 4,
   "id": "bigger-change",
   "metadata": {},
   "outputs": [],
   "source": [
    "toremove = [\"souporcell\", \"batch\", \"full_clustering\", \"initial_clustering\", \"patient_id\", \"Fraction\", \"scrublet_pred\", \"scrublet_local_pred\", \"scrublet_score\", \"scrublet_cluster_score\", \"S_score\", \"G2M_score\", \"leiden_sampl_Hani\",\"leidenres2_sampl_Hani\",\n",
    "           'leiden_sampl_China', 'leidenres2_sampl_China', 'leiden_sampl',\n",
    "           'leidenres2_sampl', 'sampl_Hani', 'sampl', 'leiden_bcell',\n",
    "           'leidenres2_bcell', 'leiden_mono', 'leidenres2_mono','sampl_China', 'leidenres2_sampl_totvi',\n",
    "       'leiden_sampl_totvi', 'totvi', 'general', 'general_China',\n",
    "       'general_Hani', 'prog_FDR','prog_logFC', 'prog_spFDR', 'conv_FDR', 'conv_logFC', 'conv_spFDR',\n",
    "       'leiden_totvi_tcells', 'leidenres2_totvi_tcells',\n",
    "       'leidenres3_totvi_tcells', 'leiden_totvi_bcells',\n",
    "       'leidenres2_totvi_bcells', 'leiden_totvi_mono', 'leidenres2_totvi_mono', 'totvi_bcells',\n",
    "       'totvi_mono', 'leiden_sampl_everything', 'leidenres2_sampl_everything',\n",
    "       'leiden_sampl_baseline', 'neigh', 'neigh_javi', 'general_integrated','leiden_every_tcell', 'leidenres2_every_tcell',\n",
    "       'leiden_every_bcell', 'leidenres2_every_bcell', 'leiden_every_mono',\n",
    "       'leidenres2_every_mono', 'leiden_every64', 'leidenres2_every64',\n",
    "       'leiden_every_tcell20','leidenres2_every_tcell20', 'leiden_every_tcell20unpool',\n",
    "       'leidenres2_every_tcell20unpool', 'leiden_every_bcell20unpool',\n",
    "       'leidenres2_every_bcell20unpool', 'leiden_every_mono20unpool',\n",
    "       'leidenres2_every_mono20unpool', 'leiden_everything_unpool',\n",
    "       'leidenres2_everything_unpool', 'leiden_totvi20unpool','leidenres2_totvi20unpool', 'bcell20unpool', 'tcell20unpool',\n",
    "       'mono20unpool','neigh_Stage', 'neigh_Enrich',\n",
    "       'neigh_Enrich_logPval','tmp','leiden_totvi20unpool_2', 'SampleID',\n",
    "       'leidenres2_totvi20unpool_2', 'leiden_totvi_monocytes', 'SARS-CoV-2', 'demultiplexed', '10x kit',\n",
    "       'leidenres2_totvi_monocytes', 'filtered_cells', 'clonotype_class', 'TRA_V_Gene', 'TRB_V_Gene', 'TRA_J_Gene', 'TRB_J_Gene', 'TR_C_Genes', 'TR_D_Genes'\n",
    "]\n",
    "for x in toremove:\n",
    "    del adata.obs[x]"
   ]
  },
  {
   "cell_type": "code",
   "execution_count": 5,
   "id": "asian-manufacturer",
   "metadata": {},
   "outputs": [],
   "source": [
    "toremove = ['X_umap_bcell', 'X_umap_every64', 'X_umap_every_bcell', \n",
    " 'X_umap_every_mono',\n",
    " 'X_umap_every_tcell',\n",
    " 'X_umap_every_tcell20',\n",
    " 'X_umap_mono',\n",
    " 'X_umap_sampl',\n",
    " 'X_umap_sampl_China',\n",
    " 'X_umap_sampl_Hani',\n",
    " 'X_umap_sampl_baseline',\n",
    " 'X_umap_sampl_everything',\n",
    " 'X_umap_sampl_totvi',\n",
    " 'X_umap_totvi20unpool',\n",
    " 'X_umap_totvi20unpool_2',\n",
    " 'X_umap_totvi_bcells',\n",
    " 'X_umap_totvi_mono',\n",
    " 'X_umap_totvi_monocytes',\n",
    " 'X_umap_totvi_tcells',\n",
    " 'scvi_bcell',\n",
    " 'scvi_every64',\n",
    " 'scvi_every_bcell',\n",
    " 'scvi_every_bcell20unpool',\n",
    " 'scvi_every_mono',\n",
    " 'scvi_every_mono20unpool',\n",
    " 'scvi_every_tcell',\n",
    " 'scvi_every_tcell20',\n",
    " 'scvi_every_tcell20unpool',\n",
    " 'scvi_everything_unpool',\n",
    " 'scvi_mono',\n",
    " 'scvi_sampl',\n",
    " 'scvi_sampl_China',\n",
    " 'scvi_sampl_Hani',\n",
    " 'scvi_sampl_baseline',\n",
    " 'scvi_sampl_everything',\n",
    " 'totvi20unpool',\n",
    " 'totvi20unpool_2',\n",
    " 'totvi_bcells',\n",
    " 'totvi_mono',\n",
    " 'totvi_monocytes',\n",
    " 'totvi_sampl',\n",
    " 'totvi_tcells']\n",
    "\n",
    "\n",
    "for x in toremove:\n",
    "    del adata.obsm[x]\n",
    "adata.obsm[\"X_umap\"] = adata.obsm[\"X_umap_everything_unpool\"]\n",
    "adata.obsm[\"X_umap_Bcells\"] = adata.obsm[\"X_umap_every_bcell20unpool\"]\n",
    "adata.obsm[\"X_umap_Tcells\"] = adata.obsm[\"X_umap_every_tcell20unpool\"]\n",
    "adata.obsm[\"X_umap_Monocytes\"] = adata.obsm[\"X_umap_every_mono20unpool\"]\n",
    "del adata.obsm[\"X_umap_everything_unpool\"]\n",
    "del adata.obsm[\"X_umap_every_bcell20unpool\"]\n",
    "del adata.obsm[\"X_umap_every_tcell20unpool\"]\n",
    "del adata.obsm[\"X_umap_every_mono20unpool\"]"
   ]
  },
  {
   "cell_type": "code",
   "execution_count": 6,
   "id": "primary-sunrise",
   "metadata": {},
   "outputs": [],
   "source": [
    "toremove = [\n",
    " 'bcell20unpool_colors',\n",
    " 'general_China_colors',\n",
    " 'general_Hani_colors',\n",
    " 'general_colors',\n",
    " 'general_integrated_colors',\n",
    " 'mono20unpool_colors',\n",
    " 'neighbors',\n",
    " 'sampl_China_colors',\n",
    " 'sampl_Hani_colors',\n",
    " 'sampl_colors',\n",
    " 'tcell20unpool_colors',\n",
    " 'totvi_bcells_colors',\n",
    " 'totvi_colors',\n",
    " 'totvi_mono_colors']\n",
    "for x in toremove:\n",
    "    del adata.uns[x]"
   ]
  },
  {
   "cell_type": "code",
   "execution_count": 7,
   "id": "informal-saver",
   "metadata": {},
   "outputs": [
    {
     "data": {
      "text/plain": [
       "Classical monocytes        31313\n",
       "NK CD16                    31134\n",
       "T Naive CD4                26805\n",
       "TE CD8                     22474\n",
       "TCM CD4                    19856\n",
       "NKT-like                   16699\n",
       "TEM CD8                    13585\n",
       "Bcell naive                12980\n",
       "TEM CD4                    12335\n",
       "Non-classical monocytes     9209\n",
       "Cl. mono S100A8             9023\n",
       "T Naive CD8                 8699\n",
       "T Effector CD4              8387\n",
       "Intermediate monocytes      8190\n",
       "Cytotoxic T cell            7697\n",
       "gdT                         6694\n",
       "Cl. mono inflammasome       6519\n",
       "Cl. mono IFN                6322\n",
       "Tcell Cycling               4714\n",
       "NK CD56                     4586\n",
       "cDCs                        4175\n",
       "MAIT                        3729\n",
       "Bcell S-mem                 3532\n",
       "Bcell US-mem                3444\n",
       "Treg                        2732\n",
       "Platelets                   1414\n",
       "Bcell CD21 Low              1366\n",
       "pDC                         1276\n",
       "Plasma Bcells                984\n",
       "dnT                          263\n",
       "hSC                          233\n",
       "Erythrocytes                  99\n",
       "ASDC                          66\n",
       "Name: cell type, dtype: int64"
      ]
     },
     "execution_count": 7,
     "metadata": {},
     "output_type": "execute_result"
    }
   ],
   "source": [
    "# rename some fields\n",
    "adata.obs[\"cell type\"] = adata.obs[\"general_integrated2\"];\n",
    "del adata.obs[\"general_integrated2\"]\n",
    "adata.uns[\"cell type_colors\"] = adata.uns[\"general_integrated2_colors\"];\n",
    "del adata.uns[\"general_integrated2_colors\"]\n",
    "adata.obs[\"broad cell type\"] = adata.obs[\"broad_integrated\"];\n",
    "del adata.obs[\"broad_integrated\"]\n",
    "adata.obs[\"clono. expension time\"] = adata.obs[\"clonotype_class2\"];\n",
    "del adata.obs[\"clonotype_class2\"]\n",
    "\n",
    "adata.obs[\"cell type\"].value_counts()"
   ]
  },
  {
   "cell_type": "code",
   "execution_count": 8,
   "id": "strong-hydrogen",
   "metadata": {},
   "outputs": [],
   "source": [
    "adata.obs[\"StudyName\"] = lpy.applyFactorRename(adata.obs[\"StudyName\"],{\n",
    " 'Javi': 'Rodriguez', 'China': 'Ren', 'Haniffa': 'Stephenson'})\n",
    "adata.uns[\"Stage_colors\"] = ['#22CC66','#FF5500','#8800FF']\n",
    "adata.uns[\"Sex_colors\"] = ['#FF4444','#6666FF']\n",
    "adata.uns[\"CovidSeverity_colors\"] = ['#0088FF','#EEEE00','#FF0000']\n",
    "adata.uns[\"VDJ_type_colors\"] = ['#AAAA00', '#DD2288', '#0088CC']\n",
    "adata.uns[\"broad cell type_colors\"] = ['#0088CC','#AAAA00','#DD2288']\n",
    "adata.uns[\"clono. expension time_colors\"] = ['#22CC66','#FF5500','#8800FF', '#AAAAAA', '#FFFFFF']"
   ]
  },
  {
   "cell_type": "code",
   "execution_count": 9,
   "id": "brief-storage",
   "metadata": {},
   "outputs": [],
   "source": [
    "del adata.varm[\"demultiplexed\"]\n",
    "adata.write_h5ad(\"Staged_Covid.h5ad\")"
   ]
  }
 ],
 "metadata": {
  "kernelspec": {
   "display_name": "Python 3 (ipykernel)",
   "language": "python",
   "name": "python3"
  },
  "language_info": {
   "codemirror_mode": {
    "name": "ipython",
    "version": 3
   },
   "file_extension": ".py",
   "mimetype": "text/x-python",
   "name": "python",
   "nbconvert_exporter": "python",
   "pygments_lexer": "ipython3",
   "version": "3.11.0"
  }
 },
 "nbformat": 4,
 "nbformat_minor": 5
}
